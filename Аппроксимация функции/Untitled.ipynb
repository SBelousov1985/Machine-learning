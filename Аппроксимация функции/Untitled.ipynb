{
 "cells": [
  {
   "cell_type": "markdown",
   "metadata": {},
   "source": [
    "# Аппроксимация функции"
   ]
  },
  {
   "cell_type": "code",
   "execution_count": 21,
   "metadata": {},
   "outputs": [
    {
     "name": "stdout",
     "output_type": "stream",
     "text": [
      "[ 1.   1.1  1.2  1.3  1.4  1.5  1.6  1.7  1.8  1.9  2.   2.1  2.2  2.3\n",
      "  2.4  2.5  2.6  2.7  2.8  2.9  3.   3.1  3.2  3.3  3.4  3.5  3.6  3.7\n",
      "  3.8  3.9  4.   4.1  4.2  4.3  4.4  4.5  4.6  4.7  4.8  4.9  5.   5.1\n",
      "  5.2  5.3  5.4  5.5  5.6  5.7  5.8  5.9  6.   6.1  6.2  6.3  6.4  6.5\n",
      "  6.6  6.7  6.8  6.9  7.   7.1  7.2  7.3  7.4  7.5  7.6  7.7  7.8  7.9\n",
      "  8.   8.1  8.2  8.3  8.4  8.5  8.6  8.7  8.8  8.9  9.   9.1  9.2  9.3\n",
      "  9.4  9.5  9.6  9.7  9.8  9.9 10.  10.1 10.2 10.3 10.4 10.5 10.6 10.7\n",
      " 10.8 10.9 11.  11.1 11.2 11.3 11.4 11.5 11.6 11.7 11.8 11.9 12.  12.1\n",
      " 12.2 12.3 12.4 12.5 12.6 12.7 12.8 12.9 13.  13.1 13.2 13.3 13.4 13.5\n",
      " 13.6 13.7 13.8 13.9 14.  14.1 14.2 14.3 14.4 14.5 14.6 14.7 14.8 14.9\n",
      " 15. ]\n"
     ]
    }
   ],
   "source": [
    "import numpy\n",
    "import math\n",
    "import matplotlib\n",
    "import matplotlib.pyplot as pyplot\n",
    "def f(x):\n",
    "    return math.sin(x / 5) * math.exp(x / 10) + 5 * math.exp(- x / 2)\n",
    "x = [1, 15]\n",
    "n = len(x)\n",
    "a = []\n",
    "for i in range(n):\n",
    "    l = []\n",
    "    for j in range(n):\n",
    "        l.append(x[i] ** j)\n",
    "    a.append(l)\n",
    "b = numpy.array(list(map(f, x)))\n",
    "A = numpy.array(a)\n",
    "xi = numpy.linalg.solve(A, b)\n",
    "dx = 0.1\n",
    "x_min = min(x)\n",
    "x_max = max(x) + dx\n",
    "xlist = numpy.arange(x_min, x_max, dx)"
   ]
  }
 ],
 "metadata": {
  "kernelspec": {
   "display_name": "Python 3",
   "language": "python",
   "name": "python3"
  },
  "language_info": {
   "codemirror_mode": {
    "name": "ipython",
    "version": 3
   },
   "file_extension": ".py",
   "mimetype": "text/x-python",
   "name": "python",
   "nbconvert_exporter": "python",
   "pygments_lexer": "ipython3",
   "version": "3.7.3"
  }
 },
 "nbformat": 4,
 "nbformat_minor": 2
}
