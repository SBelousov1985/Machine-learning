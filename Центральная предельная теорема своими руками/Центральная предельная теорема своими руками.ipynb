{
 "cells": [
  {
   "cell_type": "markdown",
   "metadata": {},
   "source": [
    "# Проверка центральной предельной теоремы на примере треугольного распределения"
   ]
  },
  {
   "cell_type": "code",
   "execution_count": 2,
   "metadata": {},
   "outputs": [],
   "source": [
    "import matplotlib.pyplot as plt\n",
    "import numpy as np\n",
    "import scipy.stats as sts"
   ]
  },
  {
   "cell_type": "markdown",
   "metadata": {},
   "source": [
    "## В качестве непрерывного распреления возьмем &ndash; треугольное распределение\n",
    "*a &ndash; нижний предел (a&le;b)  \n",
    "c &ndash; наиболее вероятное (a&le;c&le;b)  \n",
    "b &ndash; верхний предел (c&le;b)*"
   ]
  },
  {
   "cell_type": "code",
   "execution_count": 3,
   "metadata": {},
   "outputs": [],
   "source": [
    "a = 0\n",
    "b = 1\n",
    "c = 0.25\n",
    "rv = sts.triang(c = (c - a) / (b - a), loc = a, scale = b - a)"
   ]
  },
  {
   "cell_type": "markdown",
   "metadata": {},
   "source": [
    "## График функции плотности вероятности выбранного распределения"
   ]
  },
  {
   "cell_type": "code",
   "execution_count": 12,
   "metadata": {},
   "outputs": [
    {
     "data": {
      "image/png": "[encoded data removed]",
      "text/plain": [
       "<Figure size 720x432 with 1 Axes>"
      ]
     },
     "metadata": {},
     "output_type": "display_data"
    }
   ],
   "source": [
    "sampleSize = 1000\n",
    "x = np.linspace(a, b, sampleSize)\n",
    "fig, ax = plt.subplots(figsize=(10,6))\n",
    "ax.plot(x, rv.pdf(x), 'b', lw=1, label='theoretical pdf')\n",
    "markedPoints = [a, c, b]\n",
    "markedPointsInfo = {'a': {'value': a, 'x': a + 0.02 * (ax.get_xlim()[1] - ax.get_xlim()[0])},\n",
    "                    'c': {'value': c, 'x': c + 0.02 * (ax.get_xlim()[1] - ax.get_xlim()[0])},\n",
    "                    'b': {'value': b, 'x': b - 0.09 * (ax.get_xlim()[1] - ax.get_xlim()[0])}}\n",
    "ax.plot(markedPoints, rv.pdf(markedPoints), 'ro')\n",
    "ax.vlines(x = c, ymin = 0, ymax = rv.pdf(c), linestyles = '--', lw = 1, colors = 'r')\n",
    "for pointInfoName, pointInfo in markedPointsInfo.items():\n",
    "    ax.text(pointInfo['x'],\n",
    "            0,\n",
    "            '{0} = {1}'.format(pointInfoName, pointInfo['value']),\n",
    "            color = 'r',\n",
    "            size=\"x-large\")\n",
    "ax.set_xlabel('$x$')\n",
    "ax.set_ylabel('$pdf$')\n",
    "ax.legend()\n",
    "plt.show()"
   ]
  },
  {
   "cell_type": "markdown",
   "metadata": {},
   "source": [
    "## Параметры треугольного распределения\n",
    "*Плотность треугольного распределения:  \n",
    "$\\begin{equation*}f(x) = \\begin{cases}\n",
    "\\frac{2(x-a)}{(b-a)(c-a)} & \\text{$x\\in[a,c]$}\\\\\n",
    "\\frac{2(b-x)}{(b-a)(b-c)} & \\text{$x\\in[c,b]$}\\\\\n",
    "0 & \\text{$x\\notin[a,b]$}\n",
    "\\end{cases}\\end{equation*}$  \n",
    "Математическое ожидание:  \n",
    "$M=\\frac{a+b+c}{3}$  \n",
    "Дисперсия:  \n",
    "$D=\\frac{a^2+b^2+c^2-ab-ac-bc}{18}$*  \n",
    "Источник: https://www.matematicus.ru/zakony-raspredeleniya-sluchajnoj-velichiny/treugolnoe-raspredelenie"
   ]
  },
  {
   "cell_type": "code",
   "execution_count": 14,
   "metadata": {},
   "outputs": [
    {
     "name": "stdout",
     "output_type": "stream",
     "text": [
      "Значения M и D по формуле: M - 0.41667, D - 0.04514\n",
      "Значения M и D из метода stats распределения triang: M - 0.41667, D - 0.04514\n"
     ]
    }
   ],
   "source": [
    "mean = (a + b + c) / 3\n",
    "variance = (a ** 2 + b ** 2 + c ** 2 - a * b - a * c - b * c) / 18\n",
    "textTemplate = 'Значения M и D по формуле: M - {}, D - {}'\n",
    "print(textTemplate.format(round(mean, 5), round(variance, 5)))\n",
    "M, D = rv.stats()\n",
    "textTemplate = 'Значения M и D из метода stats распределения triang: M - {}, D - {}'\n",
    "print(textTemplate.format(round(float(M), 5), round(float(D), 5)))"
   ]
  },
  {
   "cell_type": "markdown",
   "metadata": {},
   "source": [
    "## Сгенерируем выборку объема 1000"
   ]
  },
  {
   "cell_type": "code",
   "execution_count": 15,
   "metadata": {},
   "outputs": [],
   "source": [
    "sample = rv.rvs(size=sampleSize)"
   ]
  },
  {
   "cell_type": "markdown",
   "metadata": {},
   "source": [
    "## Гистограмма выборки"
   ]
  },
  {
   "cell_type": "code",
   "execution_count": null,
   "metadata": {},
   "outputs": [],
   "source": [
    "fig, ax = plt.subplots(figsize=(10,6))\n",
    "ax.hist(sample, density=True)\n",
    "ax.plot(x, rv.pdf(x), 'r-', lw=5, alpha=0.6, label='theoretical pdf')\n",
    "ax.set_ylabel('fraction of samples')\n",
    "ax.set_xlabel('$x$')\n",
    "ax.legend()\n",
    "plt.show()"
   ]
  },
  {
   "cell_type": "markdown",
   "metadata": {},
   "source": [
    "## Генерация 1000 выборок разных объемов (3, 5, 10, 50)"
   ]
  },
  {
   "cell_type": "code",
   "execution_count": null,
   "metadata": {},
   "outputs": [],
   "source": [
    "fig, ax = plt.subplots(2, 1, figsize=(10,12))\n",
    "ax_theory = ax[0]\n",
    "ax_test = ax[1]\n",
    "ax_theory.hist(sample, density=True)\n",
    "ax_theory.plot(x, rv.pdf(x), 'r-', lw=5, alpha=0.6, label='theoretical pdf')\n",
    "ax_theory.set_ylabel('fraction of samples')\n",
    "ax_theory.set_xlabel('$x$')\n",
    "ax_theory.set_xlim(a, b)\n",
    "ax_theory.legend()\n",
    "numTrials = 1000\n",
    "n = [3, 5, 10, 50]\n",
    "meanOfMeans = {}\n",
    "for nSize in n:\n",
    "    current_nMean = []\n",
    "    for t in range(numTrials):\n",
    "        n_sample = np.random.choice(sample, nSize)\n",
    "        current_nMean.append(sum(n_sample) / len(n_sample))\n",
    "    meanOfMeans[nSize] = current_nMean\n",
    "x = np.linspace(a, b, numTrials)\n",
    "alpha = 1\n",
    "for nSize in n:\n",
    "    ax_test.hist(meanOfMeans[nSize],\n",
    "                 density=True,\n",
    "                 alpha = alpha,\n",
    "                 label = 'n = {0}, mean = {1}'.format(nSize, round(sum(meanOfMeans[nSize]) / numTrials, 5)))\n",
    "    alpha -= 0.2\n",
    "ax_test.set_ylabel('fraction of samples')\n",
    "ax_test.set_xlabel('$x$')\n",
    "ax_test.set_xlim(a, b)\n",
    "ax_test.legend()\n",
    "norm_rv = sts.norm(mean, variance)\n",
    "pdf = norm_rv.pdf(x)\n",
    "plt.plot(x, pdf, 'r-', lw=1, label='theoretical pdf')\n",
    "plt.show()"
   ]
  },
  {
   "cell_type": "code",
   "execution_count": null,
   "metadata": {},
   "outputs": [],
   "source": []
  }
 ],
 "metadata": {
  "kernelspec": {
   "display_name": "Python 3",
   "language": "python",
   "name": "python3"
  },
  "language_info": {
   "codemirror_mode": {
    "name": "ipython",
    "version": 3
   },
   "file_extension": ".py",
   "mimetype": "text/x-python",
   "name": "python",
   "nbconvert_exporter": "python",
   "pygments_lexer": "ipython3",
   "version": "3.6.5"
  }
 },
 "nbformat": 4,
 "nbformat_minor": 2
}
